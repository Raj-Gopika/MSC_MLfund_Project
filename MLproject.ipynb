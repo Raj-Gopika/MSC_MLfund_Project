{
  "nbformat": 4,
  "nbformat_minor": 0,
  "metadata": {
    "colab": {
      "provenance": [],
      "authorship_tag": "ABX9TyPxLT8HJt3hkh5RubBrxXXT",
      "include_colab_link": true
    },
    "kernelspec": {
      "name": "python3",
      "display_name": "Python 3"
    },
    "language_info": {
      "name": "python"
    }
  },
  "cells": [
    {
      "cell_type": "markdown",
      "metadata": {
        "id": "view-in-github",
        "colab_type": "text"
      },
      "source": [
        "<a href=\"https://colab.research.google.com/github/Raj-Gopika/MSC_MLfund_Project/blob/main/MLproject.ipynb\" target=\"_parent\"><img src=\"https://colab.research.google.com/assets/colab-badge.svg\" alt=\"Open In Colab\"/></a>"
      ]
    },
    {
      "cell_type": "markdown",
      "source": [
        "# To be deleted\n",
        "this is personal documentation and checklist\n",
        "to be __DELETE BEFORE SUBMISSION__\n",
        "\n",
        "Trying to implement different models for predicting the sales price of cars.\n",
        "\n",
        "Models planing to use:\n",
        "- KNN Regression\n",
        "- Dcsion Tree Regression\n",
        "- Linear Regression\n",
        "\n",
        "__Data Set:__\n",
        "Car Sale Adverts dataset provided by AutoTrader\n",
        "(AT)"
      ],
      "metadata": {
        "id": "RipMOPv3JIZD"
      }
    },
    {
      "cell_type": "markdown",
      "source": [
        "# Importing Data and necessary Libs"
      ],
      "metadata": {
        "id": "K639VsY2K1jE"
      }
    },
    {
      "cell_type": "code",
      "source": [],
      "metadata": {
        "id": "nFcbLpsXK6yT"
      },
      "execution_count": null,
      "outputs": []
    },
    {
      "cell_type": "markdown",
      "source": [
        "# KNN Regression"
      ],
      "metadata": {
        "id": "2BxlZTdZKXrR"
      }
    }
  ]
}