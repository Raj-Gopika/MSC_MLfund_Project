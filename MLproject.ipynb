{
  "nbformat": 4,
  "nbformat_minor": 0,
  "metadata": {
    "colab": {
      "provenance": [],
      "mount_file_id": "1CUaSkZN0_-aGpVKAyyTAYTrR1CUHPt7P",
      "authorship_tag": "ABX9TyO8GXauty2UdDjpy5M0Gi//",
      "include_colab_link": true
    },
    "kernelspec": {
      "name": "python3",
      "display_name": "Python 3"
    },
    "language_info": {
      "name": "python"
    }
  },
  "cells": [
    {
      "cell_type": "markdown",
      "metadata": {
        "id": "view-in-github",
        "colab_type": "text"
      },
      "source": [
        "<a href=\"https://colab.research.google.com/github/Raj-Gopika/MSC_MLfund_Project/blob/main/MLproject.ipynb\" target=\"_parent\"><img src=\"https://colab.research.google.com/assets/colab-badge.svg\" alt=\"Open In Colab\"/></a>"
      ]
    },
    {
      "cell_type": "code",
      "source": [
        "from google.colab import drive\n",
        "drive.mount('/content/drive')"
      ],
      "metadata": {
        "colab": {
          "base_uri": "https://localhost:8080/"
        },
        "id": "rpaEKIiHQA1Y",
        "outputId": "89a29f91-7903-4f4b-816b-380ec226426e"
      },
      "execution_count": 10,
      "outputs": [
        {
          "output_type": "stream",
          "name": "stdout",
          "text": [
            "Mounted at /content/drive\n"
          ]
        }
      ]
    },
    {
      "cell_type": "markdown",
      "source": [
        "# To be deleted\n",
        "this is personal documentation and checklist\n",
        "to be __DELETE BEFORE SUBMISSION__\n",
        "\n",
        "Trying to implement different models for predicting the sales price of cars.\n",
        "\n",
        "Models planing to use:\n",
        "- KNN Regression\n",
        "- Dcsion Tree Regression\n",
        "- Linear Regression\n",
        "\n",
        "__Data Set:__\n",
        "Car Sale Adverts dataset provided by AutoTrader\n",
        "(AT)"
      ],
      "metadata": {
        "id": "RipMOPv3JIZD"
      }
    },
    {
      "cell_type": "markdown",
      "source": [
        "# Importing Dataset and Necessary Libraries and Packages"
      ],
      "metadata": {
        "id": "K639VsY2K1jE"
      }
    },
    {
      "cell_type": "code",
      "source": [
        "#import libs\n",
        "%matplotlib\n",
        "import numpy as np\n",
        "import pandas as pd\n",
        "import matplotlib.pyplot as plt\n",
        "import seaborn as sns\n",
        "sns.set(\n",
        "    { \"figure.figsize\": (6, 4) },\n",
        "    style='ticks',\n",
        "    color_codes=True,\n",
        "    font_scale=0.8\n",
        ")\n",
        "%config InlineBackend.figure_format = 'retina'\n",
        "import warnings\n",
        "warnings.filterwarnings('ignore')"
      ],
      "metadata": {
        "colab": {
          "base_uri": "https://localhost:8080/"
        },
        "id": "nFcbLpsXK6yT",
        "outputId": "f37995e9-c726-4fd5-ec3a-a743a43cf552"
      },
      "execution_count": 1,
      "outputs": [
        {
          "output_type": "stream",
          "name": "stdout",
          "text": [
            "Using matplotlib backend: <object object at 0x7e4c4184fa80>\n"
          ]
        }
      ]
    },
    {
      "cell_type": "code",
      "source": [
        "#import dataset\n",
        "data = pd.read_csv('/content/drive/MyDrive/MLProject/adverts.csv')"
      ],
      "metadata": {
        "id": "K2k2V4T1M6yH"
      },
      "execution_count": 11,
      "outputs": []
    },
    {
      "cell_type": "code",
      "source": [
        "data.head()"
      ],
      "metadata": {
        "id": "1j8K2Yt5QavA"
      },
      "execution_count": null,
      "outputs": []
    },
    {
      "cell_type": "code",
      "source": [
        "#import packages for model and fit\n",
        "from sklearn.model_selection import train_test_split\n",
        "from sklearn.neighbors import KNeighborsRegressor\n",
        "#more for min-max and confusion matrix not importing for the time being"
      ],
      "metadata": {
        "id": "doHgzrb_M6sY"
      },
      "execution_count": 13,
      "outputs": []
    },
    {
      "cell_type": "code",
      "source": [],
      "metadata": {
        "id": "x33pEEITQhru"
      },
      "execution_count": null,
      "outputs": []
    },
    {
      "cell_type": "markdown",
      "source": [
        "# KNN Regression"
      ],
      "metadata": {
        "id": "2BxlZTdZKXrR"
      }
    }
  ]
}